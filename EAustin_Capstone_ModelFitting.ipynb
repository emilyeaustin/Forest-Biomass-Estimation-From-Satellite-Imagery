{
 "cells": [
  {
   "cell_type": "markdown",
   "id": "2de80d7f-ec93-45e6-967b-9641a47dc53f",
   "metadata": {},
   "source": [
    "# Forest biomass estimation\n",
    "\n",
    "By Emily E. Austin\n",
    "\n",
    "Goal: To use the data extracted from satelite images (using R) to train a machine learning algorithm to predict forest biomass"
   ]
  },
  {
   "cell_type": "markdown",
   "id": "a54d2d57-fa4f-43ca-bf71-7d85f9fc8f12",
   "metadata": {
    "tags": []
   },
   "source": [
    "# Prepare Data"
   ]
  },
  {
   "cell_type": "code",
   "execution_count": 120,
   "id": "fa702af5-b5a8-4df2-9637-abc9a509fb94",
   "metadata": {},
   "outputs": [],
   "source": [
    "import pandas as pd\n",
    "import os\n",
    "import matplotlib.pyplot as plt"
   ]
  },
  {
   "cell_type": "code",
   "execution_count": 121,
   "id": "07f2a9b0-09d5-4e9e-910a-413b3d12d5f6",
   "metadata": {},
   "outputs": [
    {
     "data": {
      "text/plain": [
       "(1092, 312)"
      ]
     },
     "execution_count": 121,
     "metadata": {},
     "output_type": "execute_result"
    }
   ],
   "source": [
    "#upload dataframe\n",
    "df = pd.read_csv('Data/training_set.csv')\n",
    "df.shape"
   ]
  },
  {
   "cell_type": "code",
   "execution_count": 122,
   "id": "1cae4fed-b777-4bdc-bb46-1caaadf23886",
   "metadata": {
    "tags": []
   },
   "outputs": [
    {
     "data": {
      "text/html": [
       "<div>\n",
       "<style scoped>\n",
       "    .dataframe tbody tr th:only-of-type {\n",
       "        vertical-align: middle;\n",
       "    }\n",
       "\n",
       "    .dataframe tbody tr th {\n",
       "        vertical-align: top;\n",
       "    }\n",
       "\n",
       "    .dataframe thead th {\n",
       "        text-align: right;\n",
       "    }\n",
       "</style>\n",
       "<table border=\"1\" class=\"dataframe\">\n",
       "  <thead>\n",
       "    <tr style=\"text-align: right;\">\n",
       "      <th></th>\n",
       "      <th>Unnamed: 0</th>\n",
       "      <th>ID</th>\n",
       "      <th>Ec_Rsrv</th>\n",
       "      <th>Locatin</th>\n",
       "      <th>Transct</th>\n",
       "      <th>Plot</th>\n",
       "      <th>Elevatn</th>\n",
       "      <th>Slope</th>\n",
       "      <th>Aspect</th>\n",
       "      <th>Frst_Ty</th>\n",
       "      <th>...</th>\n",
       "      <th>T19TFL_20170914T152621_B06_20m</th>\n",
       "      <th>T19TFL_20170914T152621_B07_20m</th>\n",
       "      <th>T19TFL_20170914T152621_B11_20m</th>\n",
       "      <th>T19TFL_20170914T152621_B12_20m</th>\n",
       "      <th>T19TFL_20170914T152621_B8A_20m</th>\n",
       "      <th>T19TFL_20170914T152621_SCL_20m</th>\n",
       "      <th>T19TFL_20170914T152621_TCI_20m</th>\n",
       "      <th>T19TFL_20170914T152621_VIS_20m</th>\n",
       "      <th>T19TFL_20170914T152621_WVP_20m.y</th>\n",
       "      <th>L_DCWD_.x</th>\n",
       "    </tr>\n",
       "  </thead>\n",
       "  <tbody>\n",
       "    <tr>\n",
       "      <th>0</th>\n",
       "      <td>1</td>\n",
       "      <td>1</td>\n",
       "      <td>Bigelow</td>\n",
       "      <td>NaN</td>\n",
       "      <td>5</td>\n",
       "      <td>5</td>\n",
       "      <td>538</td>\n",
       "      <td>12.0</td>\n",
       "      <td>280.0</td>\n",
       "      <td>120.0</td>\n",
       "      <td>...</td>\n",
       "      <td>NaN</td>\n",
       "      <td>NaN</td>\n",
       "      <td>NaN</td>\n",
       "      <td>NaN</td>\n",
       "      <td>NaN</td>\n",
       "      <td>NaN</td>\n",
       "      <td>NaN</td>\n",
       "      <td>NaN</td>\n",
       "      <td>NaN</td>\n",
       "      <td>0.0</td>\n",
       "    </tr>\n",
       "    <tr>\n",
       "      <th>1</th>\n",
       "      <td>2</td>\n",
       "      <td>2</td>\n",
       "      <td>Bigelow</td>\n",
       "      <td>NaN</td>\n",
       "      <td>2</td>\n",
       "      <td>6</td>\n",
       "      <td>535</td>\n",
       "      <td>22.0</td>\n",
       "      <td>326.0</td>\n",
       "      <td>120.0</td>\n",
       "      <td>...</td>\n",
       "      <td>NaN</td>\n",
       "      <td>NaN</td>\n",
       "      <td>NaN</td>\n",
       "      <td>NaN</td>\n",
       "      <td>NaN</td>\n",
       "      <td>NaN</td>\n",
       "      <td>NaN</td>\n",
       "      <td>NaN</td>\n",
       "      <td>NaN</td>\n",
       "      <td>0.0</td>\n",
       "    </tr>\n",
       "    <tr>\n",
       "      <th>2</th>\n",
       "      <td>3</td>\n",
       "      <td>3</td>\n",
       "      <td>Bigelow</td>\n",
       "      <td>NaN</td>\n",
       "      <td>2</td>\n",
       "      <td>1</td>\n",
       "      <td>427</td>\n",
       "      <td>5.0</td>\n",
       "      <td>26.0</td>\n",
       "      <td>800.0</td>\n",
       "      <td>...</td>\n",
       "      <td>NaN</td>\n",
       "      <td>NaN</td>\n",
       "      <td>NaN</td>\n",
       "      <td>NaN</td>\n",
       "      <td>NaN</td>\n",
       "      <td>NaN</td>\n",
       "      <td>NaN</td>\n",
       "      <td>NaN</td>\n",
       "      <td>NaN</td>\n",
       "      <td>0.0</td>\n",
       "    </tr>\n",
       "    <tr>\n",
       "      <th>3</th>\n",
       "      <td>4</td>\n",
       "      <td>4</td>\n",
       "      <td>Salmon Brook Lake</td>\n",
       "      <td>NaN</td>\n",
       "      <td>1</td>\n",
       "      <td>1</td>\n",
       "      <td>211</td>\n",
       "      <td>0.0</td>\n",
       "      <td>0.0</td>\n",
       "      <td>120.0</td>\n",
       "      <td>...</td>\n",
       "      <td>NaN</td>\n",
       "      <td>NaN</td>\n",
       "      <td>NaN</td>\n",
       "      <td>NaN</td>\n",
       "      <td>NaN</td>\n",
       "      <td>NaN</td>\n",
       "      <td>NaN</td>\n",
       "      <td>NaN</td>\n",
       "      <td>NaN</td>\n",
       "      <td>0.0</td>\n",
       "    </tr>\n",
       "    <tr>\n",
       "      <th>4</th>\n",
       "      <td>5</td>\n",
       "      <td>5</td>\n",
       "      <td>Salmon Brook Lake</td>\n",
       "      <td>NaN</td>\n",
       "      <td>1</td>\n",
       "      <td>2</td>\n",
       "      <td>212</td>\n",
       "      <td>0.0</td>\n",
       "      <td>0.0</td>\n",
       "      <td>120.0</td>\n",
       "      <td>...</td>\n",
       "      <td>NaN</td>\n",
       "      <td>NaN</td>\n",
       "      <td>NaN</td>\n",
       "      <td>NaN</td>\n",
       "      <td>NaN</td>\n",
       "      <td>NaN</td>\n",
       "      <td>NaN</td>\n",
       "      <td>NaN</td>\n",
       "      <td>NaN</td>\n",
       "      <td>0.0</td>\n",
       "    </tr>\n",
       "  </tbody>\n",
       "</table>\n",
       "<p>5 rows × 312 columns</p>\n",
       "</div>"
      ],
      "text/plain": [
       "   Unnamed: 0  ID            Ec_Rsrv Locatin  Transct  Plot  Elevatn  Slope  \\\n",
       "0           1   1            Bigelow     NaN        5     5      538   12.0   \n",
       "1           2   2            Bigelow     NaN        2     6      535   22.0   \n",
       "2           3   3            Bigelow     NaN        2     1      427    5.0   \n",
       "3           4   4  Salmon Brook Lake     NaN        1     1      211    0.0   \n",
       "4           5   5  Salmon Brook Lake     NaN        1     2      212    0.0   \n",
       "\n",
       "   Aspect  Frst_Ty  ...  T19TFL_20170914T152621_B06_20m  \\\n",
       "0   280.0    120.0  ...                             NaN   \n",
       "1   326.0    120.0  ...                             NaN   \n",
       "2    26.0    800.0  ...                             NaN   \n",
       "3     0.0    120.0  ...                             NaN   \n",
       "4     0.0    120.0  ...                             NaN   \n",
       "\n",
       "   T19TFL_20170914T152621_B07_20m  T19TFL_20170914T152621_B11_20m  \\\n",
       "0                             NaN                             NaN   \n",
       "1                             NaN                             NaN   \n",
       "2                             NaN                             NaN   \n",
       "3                             NaN                             NaN   \n",
       "4                             NaN                             NaN   \n",
       "\n",
       "   T19TFL_20170914T152621_B12_20m  T19TFL_20170914T152621_B8A_20m  \\\n",
       "0                             NaN                             NaN   \n",
       "1                             NaN                             NaN   \n",
       "2                             NaN                             NaN   \n",
       "3                             NaN                             NaN   \n",
       "4                             NaN                             NaN   \n",
       "\n",
       "   T19TFL_20170914T152621_SCL_20m  T19TFL_20170914T152621_TCI_20m  \\\n",
       "0                             NaN                             NaN   \n",
       "1                             NaN                             NaN   \n",
       "2                             NaN                             NaN   \n",
       "3                             NaN                             NaN   \n",
       "4                             NaN                             NaN   \n",
       "\n",
       "   T19TFL_20170914T152621_VIS_20m  T19TFL_20170914T152621_WVP_20m.y  L_DCWD_.x  \n",
       "0                             NaN                               NaN        0.0  \n",
       "1                             NaN                               NaN        0.0  \n",
       "2                             NaN                               NaN        0.0  \n",
       "3                             NaN                               NaN        0.0  \n",
       "4                             NaN                               NaN        0.0  \n",
       "\n",
       "[5 rows x 312 columns]"
      ]
     },
     "execution_count": 122,
     "metadata": {},
     "output_type": "execute_result"
    }
   ],
   "source": [
    "#view the data\n",
    "df.head()"
   ]
  },
  {
   "cell_type": "code",
   "execution_count": 123,
   "id": "71a3859e-fc01-47eb-b206-e03a0e19dabd",
   "metadata": {},
   "outputs": [
    {
     "name": "stdout",
     "output_type": "stream",
     "text": [
      "['T19TCJ_20170902T153549_AOT_20m', 'T19TCJ_20170902T153549_B02_20m', 'T19TCJ_20170902T153549_B03_20m', 'T19TCJ_20170902T153549_B04_20m', 'T19TCJ_20170902T153549_B05_20m', 'T19TCJ_20170902T153549_B06_20m', 'T19TCJ_20170902T153549_B07_20m', 'T19TCJ_20170902T153549_B11_20m', 'T19TCJ_20170902T153549_B12_20m', 'T19TCJ_20170902T153549_B8A_20m', 'T19TCJ_20170902T153549_SCL_20m', 'T19TCJ_20170902T153549_TCI_20m', 'T19TCJ_20170902T153549_VIS_20m', 'T19TCJ_20170902T153549_WVP_20m', 'T19TCK_20170902T153549_AOT_20m', 'T19TCK_20170902T153549_B02_20m', 'T19TCK_20170902T153549_B03_20m', 'T19TCK_20170902T153549_B04_20m', 'T19TCK_20170902T153549_B05_20m', 'T19TCK_20170902T153549_B06_20m', 'T19TCK_20170902T153549_B07_20m', 'T19TCK_20170902T153549_B11_20m', 'T19TCK_20170902T153549_B12_20m', 'T19TCK_20170902T153549_B8A_20m', 'T19TCK_20170902T153549_SCL_20m', 'T19TCK_20170902T153549_TCI_20m', 'T19TCK_20170902T153549_VIS_20m', 'T19TCK_20170902T153549_WVP_20m', 'T19TCL_20170902T153549_AOT_20m', 'T19TCL_20170902T153549_B02_20m', 'T19TCL_20170902T153549_B03_20m', 'T19TCL_20170902T153549_B04_20m', 'T19TCL_20170902T153549_B05_20m', 'T19TCL_20170902T153549_B06_20m', 'T19TCL_20170902T153549_B07_20m', 'T19TCL_20170902T153549_B11_20m', 'T19TCL_20170902T153549_B12_20m', 'T19TCL_20170902T153549_B8A_20m', 'T19TCL_20170902T153549_SCL_20m', 'T19TCL_20170902T153549_TCI_20m', 'T19TCL_20170902T153549_VIS_20m', 'T19TCL_20170902T153549_WVP_20m', 'T19TDJ_20170902T153549_AOT_20m', 'T19TDJ_20170902T153549_B02_20m', 'T19TDJ_20170902T153549_B03_20m', 'T19TDJ_20170902T153549_B04_20m', 'T19TDJ_20170902T153549_B05_20m', 'T19TDJ_20170902T153549_B06_20m', 'T19TDJ_20170902T153549_B07_20m', 'T19TDJ_20170902T153549_B11_20m', 'T19TDJ_20170902T153549_B12_20m', 'T19TDJ_20170902T153549_B8A_20m', 'T19TDJ_20170902T153549_SCL_20m', 'T19TDJ_20170902T153549_TCI_20m', 'T19TDJ_20170902T153549_VIS_20m', 'T19TDJ_20170902T153549_WVP_20m', 'T19TDK_20170902T153549_AOT_20m', 'T19TDK_20170902T153549_B02_20m', 'T19TDK_20170902T153549_B03_20m', 'T19TDK_20170902T153549_B04_20m', 'T19TDK_20170902T153549_B05_20m', 'T19TDK_20170902T153549_B06_20m', 'T19TDK_20170902T153549_B07_20m', 'T19TDK_20170902T153549_B11_20m', 'T19TDK_20170902T153549_B12_20m', 'T19TDK_20170902T153549_B8A_20m', 'T19TDK_20170902T153549_SCL_20m', 'T19TDK_20170902T153549_TCI_20m', 'T19TDK_20170902T153549_VIS_20m', 'T19TDK_20170902T153549_WVP_20m', 'T19TDL_20170902T153549_AOT_20m', 'T19TDL_20170902T153549_B02_20m', 'T19TDL_20170902T153549_B03_20m', 'T19TDL_20170902T153549_B04_20m', 'T19TDL_20170902T153549_B05_20m', 'T19TDL_20170902T153549_B06_20m', 'T19TDL_20170902T153549_B07_20m', 'T19TDL_20170902T153549_B11_20m']\n"
     ]
    }
   ],
   "source": [
    "#pulling out the column names and putting them in a list\n",
    "col_names= []\n",
    "for col in df.columns:\n",
    "    col_names.append(col)\n",
    "\n",
    "#making sure they appended to the list\n",
    "print(col_names[22:100])"
   ]
  },
  {
   "cell_type": "code",
   "execution_count": 124,
   "id": "48d5b846-3751-4432-a15a-ba76cf64f01b",
   "metadata": {},
   "outputs": [
    {
     "name": "stdout",
     "output_type": "stream",
     "text": [
      "count    1092.0\n",
      "mean        0.0\n",
      "std         0.0\n",
      "min         0.0\n",
      "25%         0.0\n",
      "50%         0.0\n",
      "75%         0.0\n",
      "max         0.0\n",
      "dtype: float64\n",
      "count    7.0\n",
      "mean     0.0\n",
      "std      0.0\n",
      "min      0.0\n",
      "25%      0.0\n",
      "50%      0.0\n",
      "75%      0.0\n",
      "max      0.0\n",
      "dtype: float64\n"
     ]
    }
   ],
   "source": [
    "#deleting some extra columns\n",
    "check = df['L_DCWD_.x'] - df['L_DCWD_']\n",
    "print(check.describe())\n",
    "\n",
    "check2 = df['T19TFL_20170914T152621_WVP_20m.x'] - df['T19TFL_20170914T152621_WVP_20m.y']\n",
    "print(check2.describe())"
   ]
  },
  {
   "cell_type": "code",
   "execution_count": 125,
   "id": "c2eb1a61-6117-4dde-9059-067a435dea99",
   "metadata": {},
   "outputs": [],
   "source": [
    "#removing completely blank columns\n",
    "del df['L_DCWD_.x']\n",
    "del df['T19TFL_20170914T152621_WVP_20m.y']\n",
    "del df['Locatin']"
   ]
  },
  {
   "cell_type": "code",
   "execution_count": 126,
   "id": "7c29cd33-9697-4e87-bd72-88444a6010f3",
   "metadata": {},
   "outputs": [],
   "source": [
    "#make a list of column names for each band\n",
    "WVP_cols = [col for col in df.columns if 'WVP_20m' in col]\n",
    "AOT_cols = [col for col in df.columns if 'AOT_20m' in col]\n",
    "B02_cols = [col for col in df.columns if 'B02_20m' in col]\n",
    "B03_cols = [col for col in df.columns if 'B03_20m' in col]\n",
    "B04_cols = [col for col in df.columns if 'B04_20m' in col]\n",
    "B05_cols = [col for col in df.columns if 'B05_20m' in col]\n",
    "B06_cols = [col for col in df.columns if 'B06_20m' in col]\n",
    "B11_cols = [col for col in df.columns if 'B11_20m' in col]\n",
    "B12_cols = [col for col in df.columns if 'B12_20m' in col]\n",
    "B8A_cols = [col for col in df.columns if 'B8A_20m' in col]\n",
    "SCL_cols = [col for col in df.columns if 'SCL_20m' in col]\n",
    "TCI_cols = [col for col in df.columns if 'TCI_20m' in col]\n",
    "VIS_cols = [col for col in df.columns if 'VIS_20m' in col]"
   ]
  },
  {
   "cell_type": "code",
   "execution_count": 127,
   "id": "5fdb870f-ffef-4322-8e1f-11c6afeca476",
   "metadata": {
    "scrolled": true,
    "tags": []
   },
   "outputs": [
    {
     "data": {
      "text/html": [
       "<div>\n",
       "<style scoped>\n",
       "    .dataframe tbody tr th:only-of-type {\n",
       "        vertical-align: middle;\n",
       "    }\n",
       "\n",
       "    .dataframe tbody tr th {\n",
       "        vertical-align: top;\n",
       "    }\n",
       "\n",
       "    .dataframe thead th {\n",
       "        text-align: right;\n",
       "    }\n",
       "</style>\n",
       "<table border=\"1\" class=\"dataframe\">\n",
       "  <thead>\n",
       "    <tr style=\"text-align: right;\">\n",
       "      <th></th>\n",
       "      <th>ID</th>\n",
       "      <th>Ec_Rsrv</th>\n",
       "      <th>Transct</th>\n",
       "      <th>Plot</th>\n",
       "      <th>Elevatn</th>\n",
       "      <th>Slope</th>\n",
       "      <th>Aspect</th>\n",
       "      <th>Frst_Ty</th>\n",
       "      <th>Hrvst_H</th>\n",
       "      <th>Age_DBH</th>\n",
       "      <th>Lv_Bs_A</th>\n",
       "      <th>Liv_TPH</th>\n",
       "      <th>L_L_TPH</th>\n",
       "      <th>V_L_L_T</th>\n",
       "      <th>S_D_TPH</th>\n",
       "      <th>L_S_D_T</th>\n",
       "      <th>V_L_S_D</th>\n",
       "      <th>DCWD_Vl</th>\n",
       "    </tr>\n",
       "  </thead>\n",
       "  <tbody>\n",
       "    <tr>\n",
       "      <th>0</th>\n",
       "      <td>1</td>\n",
       "      <td>Bigelow</td>\n",
       "      <td>5</td>\n",
       "      <td>5</td>\n",
       "      <td>538</td>\n",
       "      <td>12.0</td>\n",
       "      <td>280.0</td>\n",
       "      <td>120.0</td>\n",
       "      <td>1</td>\n",
       "      <td>61.0</td>\n",
       "      <td>48.155652</td>\n",
       "      <td>892.254974</td>\n",
       "      <td>0.000000</td>\n",
       "      <td>0.000000</td>\n",
       "      <td>0.000000</td>\n",
       "      <td>0.0</td>\n",
       "      <td>0.0</td>\n",
       "      <td>100.551750</td>\n",
       "    </tr>\n",
       "    <tr>\n",
       "      <th>1</th>\n",
       "      <td>2</td>\n",
       "      <td>Bigelow</td>\n",
       "      <td>2</td>\n",
       "      <td>6</td>\n",
       "      <td>535</td>\n",
       "      <td>22.0</td>\n",
       "      <td>326.0</td>\n",
       "      <td>120.0</td>\n",
       "      <td>1</td>\n",
       "      <td>108.0</td>\n",
       "      <td>45.489154</td>\n",
       "      <td>1011.222304</td>\n",
       "      <td>69.359859</td>\n",
       "      <td>9.876194</td>\n",
       "      <td>59.483665</td>\n",
       "      <td>0.0</td>\n",
       "      <td>0.0</td>\n",
       "      <td>15.223659</td>\n",
       "    </tr>\n",
       "    <tr>\n",
       "      <th>2</th>\n",
       "      <td>3</td>\n",
       "      <td>Bigelow</td>\n",
       "      <td>2</td>\n",
       "      <td>1</td>\n",
       "      <td>427</td>\n",
       "      <td>5.0</td>\n",
       "      <td>26.0</td>\n",
       "      <td>800.0</td>\n",
       "      <td>5</td>\n",
       "      <td>110.0</td>\n",
       "      <td>39.406938</td>\n",
       "      <td>475.869319</td>\n",
       "      <td>118.967330</td>\n",
       "      <td>0.000000</td>\n",
       "      <td>0.000000</td>\n",
       "      <td>0.0</td>\n",
       "      <td>0.0</td>\n",
       "      <td>29.347640</td>\n",
       "    </tr>\n",
       "    <tr>\n",
       "      <th>3</th>\n",
       "      <td>4</td>\n",
       "      <td>Salmon Brook Lake</td>\n",
       "      <td>1</td>\n",
       "      <td>1</td>\n",
       "      <td>211</td>\n",
       "      <td>0.0</td>\n",
       "      <td>0.0</td>\n",
       "      <td>120.0</td>\n",
       "      <td>5</td>\n",
       "      <td>111.0</td>\n",
       "      <td>71.271710</td>\n",
       "      <td>1606.058953</td>\n",
       "      <td>0.000000</td>\n",
       "      <td>0.000000</td>\n",
       "      <td>416.385654</td>\n",
       "      <td>0.0</td>\n",
       "      <td>0.0</td>\n",
       "      <td>84.984442</td>\n",
       "    </tr>\n",
       "    <tr>\n",
       "      <th>4</th>\n",
       "      <td>5</td>\n",
       "      <td>Salmon Brook Lake</td>\n",
       "      <td>1</td>\n",
       "      <td>2</td>\n",
       "      <td>212</td>\n",
       "      <td>0.0</td>\n",
       "      <td>0.0</td>\n",
       "      <td>120.0</td>\n",
       "      <td>1</td>\n",
       "      <td>118.0</td>\n",
       "      <td>52.670561</td>\n",
       "      <td>1427.607958</td>\n",
       "      <td>59.483665</td>\n",
       "      <td>0.000000</td>\n",
       "      <td>178.450995</td>\n",
       "      <td>0.0</td>\n",
       "      <td>0.0</td>\n",
       "      <td>65.636993</td>\n",
       "    </tr>\n",
       "    <tr>\n",
       "      <th>...</th>\n",
       "      <td>...</td>\n",
       "      <td>...</td>\n",
       "      <td>...</td>\n",
       "      <td>...</td>\n",
       "      <td>...</td>\n",
       "      <td>...</td>\n",
       "      <td>...</td>\n",
       "      <td>...</td>\n",
       "      <td>...</td>\n",
       "      <td>...</td>\n",
       "      <td>...</td>\n",
       "      <td>...</td>\n",
       "      <td>...</td>\n",
       "      <td>...</td>\n",
       "      <td>...</td>\n",
       "      <td>...</td>\n",
       "      <td>...</td>\n",
       "      <td>...</td>\n",
       "    </tr>\n",
       "    <tr>\n",
       "      <th>1087</th>\n",
       "      <td>1088</td>\n",
       "      <td>Bradley Sunkhaze</td>\n",
       "      <td>13</td>\n",
       "      <td>3</td>\n",
       "      <td>73</td>\n",
       "      <td>0.0</td>\n",
       "      <td>0.0</td>\n",
       "      <td>120.0</td>\n",
       "      <td>5</td>\n",
       "      <td>42.0</td>\n",
       "      <td>27.773739</td>\n",
       "      <td>416.385654</td>\n",
       "      <td>0.000000</td>\n",
       "      <td>0.000000</td>\n",
       "      <td>0.000000</td>\n",
       "      <td>0.0</td>\n",
       "      <td>0.0</td>\n",
       "      <td>0.000000</td>\n",
       "    </tr>\n",
       "    <tr>\n",
       "      <th>1088</th>\n",
       "      <td>1089</td>\n",
       "      <td>Bradley Sunkhaze</td>\n",
       "      <td>13</td>\n",
       "      <td>4</td>\n",
       "      <td>76</td>\n",
       "      <td>5.0</td>\n",
       "      <td>307.0</td>\n",
       "      <td>120.0</td>\n",
       "      <td>5</td>\n",
       "      <td>34.0</td>\n",
       "      <td>12.274035</td>\n",
       "      <td>416.385654</td>\n",
       "      <td>0.000000</td>\n",
       "      <td>0.000000</td>\n",
       "      <td>59.483665</td>\n",
       "      <td>0.0</td>\n",
       "      <td>0.0</td>\n",
       "      <td>13.067260</td>\n",
       "    </tr>\n",
       "    <tr>\n",
       "      <th>1089</th>\n",
       "      <td>1090</td>\n",
       "      <td>Bradley Sunkhaze</td>\n",
       "      <td>13</td>\n",
       "      <td>5</td>\n",
       "      <td>84</td>\n",
       "      <td>6.0</td>\n",
       "      <td>307.0</td>\n",
       "      <td>120.0</td>\n",
       "      <td>1</td>\n",
       "      <td>26.0</td>\n",
       "      <td>25.947938</td>\n",
       "      <td>951.738639</td>\n",
       "      <td>0.000000</td>\n",
       "      <td>0.000000</td>\n",
       "      <td>0.000000</td>\n",
       "      <td>0.0</td>\n",
       "      <td>0.0</td>\n",
       "      <td>0.000000</td>\n",
       "    </tr>\n",
       "    <tr>\n",
       "      <th>1090</th>\n",
       "      <td>1091</td>\n",
       "      <td>Bradley Sunkhaze</td>\n",
       "      <td>18</td>\n",
       "      <td>4</td>\n",
       "      <td>123</td>\n",
       "      <td>21.5</td>\n",
       "      <td>298.0</td>\n",
       "      <td>800.0</td>\n",
       "      <td>5</td>\n",
       "      <td>NaN</td>\n",
       "      <td>13.127953</td>\n",
       "      <td>297.418325</td>\n",
       "      <td>19.752388</td>\n",
       "      <td>19.752388</td>\n",
       "      <td>0.000000</td>\n",
       "      <td>0.0</td>\n",
       "      <td>0.0</td>\n",
       "      <td>0.000000</td>\n",
       "    </tr>\n",
       "    <tr>\n",
       "      <th>1091</th>\n",
       "      <td>1092</td>\n",
       "      <td>Bradley Sunkhaze</td>\n",
       "      <td>18</td>\n",
       "      <td>5</td>\n",
       "      <td>170</td>\n",
       "      <td>15.0</td>\n",
       "      <td>276.0</td>\n",
       "      <td>500.0</td>\n",
       "      <td>1</td>\n",
       "      <td>NaN</td>\n",
       "      <td>36.308062</td>\n",
       "      <td>654.320314</td>\n",
       "      <td>59.483665</td>\n",
       "      <td>0.000000</td>\n",
       "      <td>0.000000</td>\n",
       "      <td>0.0</td>\n",
       "      <td>0.0</td>\n",
       "      <td>17.845702</td>\n",
       "    </tr>\n",
       "  </tbody>\n",
       "</table>\n",
       "<p>1092 rows × 18 columns</p>\n",
       "</div>"
      ],
      "text/plain": [
       "        ID            Ec_Rsrv  Transct  Plot  Elevatn  Slope  Aspect  Frst_Ty  \\\n",
       "0        1            Bigelow        5     5      538   12.0   280.0    120.0   \n",
       "1        2            Bigelow        2     6      535   22.0   326.0    120.0   \n",
       "2        3            Bigelow        2     1      427    5.0    26.0    800.0   \n",
       "3        4  Salmon Brook Lake        1     1      211    0.0     0.0    120.0   \n",
       "4        5  Salmon Brook Lake        1     2      212    0.0     0.0    120.0   \n",
       "...    ...                ...      ...   ...      ...    ...     ...      ...   \n",
       "1087  1088   Bradley Sunkhaze       13     3       73    0.0     0.0    120.0   \n",
       "1088  1089   Bradley Sunkhaze       13     4       76    5.0   307.0    120.0   \n",
       "1089  1090   Bradley Sunkhaze       13     5       84    6.0   307.0    120.0   \n",
       "1090  1091   Bradley Sunkhaze       18     4      123   21.5   298.0    800.0   \n",
       "1091  1092   Bradley Sunkhaze       18     5      170   15.0   276.0    500.0   \n",
       "\n",
       "      Hrvst_H  Age_DBH    Lv_Bs_A      Liv_TPH     L_L_TPH    V_L_L_T  \\\n",
       "0           1     61.0  48.155652   892.254974    0.000000   0.000000   \n",
       "1           1    108.0  45.489154  1011.222304   69.359859   9.876194   \n",
       "2           5    110.0  39.406938   475.869319  118.967330   0.000000   \n",
       "3           5    111.0  71.271710  1606.058953    0.000000   0.000000   \n",
       "4           1    118.0  52.670561  1427.607958   59.483665   0.000000   \n",
       "...       ...      ...        ...          ...         ...        ...   \n",
       "1087        5     42.0  27.773739   416.385654    0.000000   0.000000   \n",
       "1088        5     34.0  12.274035   416.385654    0.000000   0.000000   \n",
       "1089        1     26.0  25.947938   951.738639    0.000000   0.000000   \n",
       "1090        5      NaN  13.127953   297.418325   19.752388  19.752388   \n",
       "1091        1      NaN  36.308062   654.320314   59.483665   0.000000   \n",
       "\n",
       "         S_D_TPH  L_S_D_T  V_L_S_D     DCWD_Vl  \n",
       "0       0.000000      0.0      0.0  100.551750  \n",
       "1      59.483665      0.0      0.0   15.223659  \n",
       "2       0.000000      0.0      0.0   29.347640  \n",
       "3     416.385654      0.0      0.0   84.984442  \n",
       "4     178.450995      0.0      0.0   65.636993  \n",
       "...          ...      ...      ...         ...  \n",
       "1087    0.000000      0.0      0.0    0.000000  \n",
       "1088   59.483665      0.0      0.0   13.067260  \n",
       "1089    0.000000      0.0      0.0    0.000000  \n",
       "1090    0.000000      0.0      0.0    0.000000  \n",
       "1091    0.000000      0.0      0.0   17.845702  \n",
       "\n",
       "[1092 rows x 18 columns]"
      ]
     },
     "execution_count": 127,
     "metadata": {},
     "output_type": "execute_result"
    }
   ],
   "source": [
    "#create new df to hold median calculations\n",
    "#used the first 20 columns as the base\n",
    "med_df = pd.DataFrame(data=df.iloc[:, 1:19])\n",
    "med_df"
   ]
  },
  {
   "cell_type": "code",
   "execution_count": 128,
   "id": "6d1c6270-a49c-4c04-bfb8-7df1670bff39",
   "metadata": {},
   "outputs": [],
   "source": [
    "#take the median for each band from the first dataframe\n",
    "#and create a new column in the new dataframe\n",
    "#using the median because cloud cover will create outliers\n",
    "med_df['WVP_median'] = df[WVP_cols].median(axis=1)\n",
    "med_df['AOT_median'] = df[AOT_cols].median(axis=1)\n",
    "med_df['B02_median'] = df[B02_cols].median(axis=1)\n",
    "med_df['B03_median'] = df[B03_cols].median(axis=1)\n",
    "med_df['B04_median'] = df[B04_cols].median(axis=1)\n",
    "med_df['B05_median'] = df[B05_cols].median(axis=1)\n",
    "med_df['B06_median'] = df[B06_cols].median(axis=1)\n",
    "med_df['B11_median'] = df[B11_cols].median(axis=1)\n",
    "med_df['B12_median'] = df[B12_cols].median(axis=1)\n",
    "med_df['B8A_median'] = df[B8A_cols].median(axis=1)\n",
    "med_df['SCL_median'] = df[SCL_cols].median(axis=1)\n",
    "med_df['TCI_median'] = df[TCI_cols].median(axis=1)\n",
    "med_df['VIS_median'] = df[VIS_cols].median(axis=1)"
   ]
  },
  {
   "cell_type": "code",
   "execution_count": 129,
   "id": "a9f43932-dd5b-4de3-beee-2e7d035a8524",
   "metadata": {},
   "outputs": [
    {
     "data": {
      "text/plain": [
       "169"
      ]
     },
     "execution_count": 129,
     "metadata": {},
     "output_type": "execute_result"
    }
   ],
   "source": [
    "#hmmm, still have nulls\n",
    "med_df.isnull().values.sum()"
   ]
  },
  {
   "cell_type": "code",
   "execution_count": 130,
   "id": "482535b8-f215-4d8e-b39c-37b3ed0493a7",
   "metadata": {},
   "outputs": [
    {
     "data": {
      "text/plain": [
       "ID             0\n",
       "Ec_Rsrv        0\n",
       "Transct        0\n",
       "Plot           0\n",
       "Elevatn        0\n",
       "Slope          6\n",
       "Aspect        26\n",
       "Frst_Ty        1\n",
       "Hrvst_H        0\n",
       "Age_DBH       84\n",
       "Lv_Bs_A        0\n",
       "Liv_TPH        0\n",
       "L_L_TPH        0\n",
       "V_L_L_T        0\n",
       "S_D_TPH        0\n",
       "L_S_D_T        0\n",
       "V_L_S_D        0\n",
       "DCWD_Vl        0\n",
       "WVP_median     4\n",
       "AOT_median     4\n",
       "B02_median     4\n",
       "B03_median     4\n",
       "B04_median     4\n",
       "B05_median     4\n",
       "B06_median     4\n",
       "B11_median     4\n",
       "B12_median     4\n",
       "B8A_median     4\n",
       "SCL_median     4\n",
       "TCI_median     4\n",
       "VIS_median     4\n",
       "dtype: int64"
      ]
     },
     "execution_count": 130,
     "metadata": {},
     "output_type": "execute_result"
    }
   ],
   "source": [
    "#what cols are the nulls in?\n",
    "med_df.isnull().sum()"
   ]
  },
  {
   "cell_type": "code",
   "execution_count": 131,
   "id": "4d8bb391",
   "metadata": {},
   "outputs": [
    {
     "data": {
      "text/plain": [
       "(1092, 31)"
      ]
     },
     "execution_count": 131,
     "metadata": {},
     "output_type": "execute_result"
    }
   ],
   "source": [
    "med_df.shape"
   ]
  },
  {
   "cell_type": "code",
   "execution_count": 132,
   "id": "0bdf53e6",
   "metadata": {},
   "outputs": [],
   "source": [
    "#calculate NDVI\n",
    "med_df['NDVI_median'] = (med_df['B8A_median']-med_df['B04_median'])/(med_df['B8A_median']+med_df['B04_median'])"
   ]
  },
  {
   "cell_type": "code",
   "execution_count": null,
   "id": "f8bca354",
   "metadata": {},
   "outputs": [],
   "source": []
  },
  {
   "cell_type": "code",
   "execution_count": null,
   "id": "8850f2d9",
   "metadata": {},
   "outputs": [],
   "source": []
  },
  {
   "cell_type": "code",
   "execution_count": 133,
   "id": "f223a74d-5652-49cb-a55a-25427abbcf8a",
   "metadata": {
    "tags": []
   },
   "outputs": [
    {
     "name": "stdout",
     "output_type": "stream",
     "text": [
      "['WVP_median', 'AOT_median', 'B02_median', 'B03_median', 'B04_median', 'B05_median', 'B06_median', 'B11_median', 'B12_median', 'B8A_median', 'SCL_median', 'TCI_median', 'VIS_median', 'NDVI_median']\n"
     ]
    }
   ],
   "source": [
    "#extracting these values into a list for training\n",
    "#and removing nulls\n",
    "median_cols = [col for col in med_df.columns if 'median' in col]\n",
    "print(median_cols)"
   ]
  },
  {
   "cell_type": "code",
   "execution_count": 134,
   "id": "89c56e6c-d01d-4321-910b-b8a637e39f62",
   "metadata": {},
   "outputs": [],
   "source": [
    "na_cols = [\"Slope\", \"Aspect\", \"Frst_Ty\", \"Age_DBH\"]\n",
    "# I'm not planning on using these columns but I'll fill them with the mean in case I want to look at them"
   ]
  },
  {
   "cell_type": "code",
   "execution_count": 135,
   "id": "3a8dd9e6-e4fa-46d9-82c7-c327abe20815",
   "metadata": {},
   "outputs": [
    {
     "name": "stderr",
     "output_type": "stream",
     "text": [
      "/var/folders/_3/3qrdy8394_54yc_s6bwkjvhc0000gn/T/ipykernel_30905/3996733577.py:1: FutureWarning: Dropping of nuisance columns in DataFrame reductions (with 'numeric_only=None') is deprecated; in a future version this will raise TypeError.  Select only valid columns before calling the reduction.\n",
      "  med_df[na_cols]=med_df[na_cols].fillna(df.mean().iloc[0])\n",
      "/var/folders/_3/3qrdy8394_54yc_s6bwkjvhc0000gn/T/ipykernel_30905/3996733577.py:2: FutureWarning: Dropping of nuisance columns in DataFrame reductions (with 'numeric_only=None') is deprecated; in a future version this will raise TypeError.  Select only valid columns before calling the reduction.\n",
      "  med_df[median_cols]=med_df[median_cols].fillna(df.mean().iloc[0])\n"
     ]
    }
   ],
   "source": [
    "med_df[na_cols]=med_df[na_cols].fillna(df.mean().iloc[0])\n",
    "med_df[median_cols]=med_df[median_cols].fillna(df.mean().iloc[0])"
   ]
  },
  {
   "cell_type": "code",
   "execution_count": 136,
   "id": "057801bb-27b6-4b23-a9b0-9e324d5f91db",
   "metadata": {},
   "outputs": [
    {
     "data": {
      "text/plain": [
       "ID             0\n",
       "Ec_Rsrv        0\n",
       "Transct        0\n",
       "Plot           0\n",
       "Elevatn        0\n",
       "Slope          0\n",
       "Aspect         0\n",
       "Frst_Ty        0\n",
       "Hrvst_H        0\n",
       "Age_DBH        0\n",
       "Lv_Bs_A        0\n",
       "Liv_TPH        0\n",
       "L_L_TPH        0\n",
       "V_L_L_T        0\n",
       "S_D_TPH        0\n",
       "L_S_D_T        0\n",
       "V_L_S_D        0\n",
       "DCWD_Vl        0\n",
       "WVP_median     0\n",
       "AOT_median     0\n",
       "B02_median     0\n",
       "B03_median     0\n",
       "B04_median     0\n",
       "B05_median     0\n",
       "B06_median     0\n",
       "B11_median     0\n",
       "B12_median     0\n",
       "B8A_median     0\n",
       "SCL_median     0\n",
       "TCI_median     0\n",
       "VIS_median     0\n",
       "NDVI_median    0\n",
       "dtype: int64"
      ]
     },
     "execution_count": 136,
     "metadata": {},
     "output_type": "execute_result"
    }
   ],
   "source": [
    "#ensure no nulls remain in the training set\n",
    "med_df.isnull().sum()"
   ]
  },
  {
   "cell_type": "markdown",
   "id": "9b812398-ec3c-4180-a90c-e0095fd97b7a",
   "metadata": {
    "tags": []
   },
   "source": [
    "# Training models"
   ]
  },
  {
   "cell_type": "markdown",
   "id": "b502979d",
   "metadata": {},
   "source": [
    "## Decision Tree Regressor"
   ]
  },
  {
   "cell_type": "code",
   "execution_count": 137,
   "id": "d38313b0-c785-4ddf-9795-5678143e3fee",
   "metadata": {},
   "outputs": [],
   "source": [
    "from sklearn.tree import DecisionTreeRegressor\n",
    "from sklearn.model_selection import train_test_split\n",
    "from sklearn.metrics import mean_squared_error as MSE"
   ]
  },
  {
   "cell_type": "code",
   "execution_count": 138,
   "id": "e284bcea-295f-4ff6-b7e9-f421197f44a9",
   "metadata": {},
   "outputs": [],
   "source": [
    "dt = DecisionTreeRegressor(max_depth=4, min_samples_leaf=0.1,random_state=3)"
   ]
  },
  {
   "cell_type": "code",
   "execution_count": 139,
   "id": "0d39a735",
   "metadata": {},
   "outputs": [],
   "source": [
    "X = med_df[median_cols]\n",
    "y = med_df.Lv_Bs_A\n",
    "X_train, X_test, y_train, y_test = train_test_split(X,y, test_size=0.25, random_state=3)"
   ]
  },
  {
   "cell_type": "code",
   "execution_count": 140,
   "id": "3a6ed37a-144d-49fa-9141-16ebeed728d0",
   "metadata": {},
   "outputs": [],
   "source": [
    "dt.fit(X_train,y_train)\n",
    "y_pred = dt.predict(X_test)\n",
    "mse_dt = MSE(y_test,y_pred)\n",
    "rmse_dt=mse_dt**(1/2)\n",
    "r2_dt = dt.score(X_test,y_test)\n",
    "\n",
    "model_rmse['DecisionTreeRegressor']=rmse_dt"
   ]
  },
  {
   "cell_type": "code",
   "execution_count": 141,
   "id": "9b8257ba",
   "metadata": {},
   "outputs": [
    {
     "data": {
      "text/plain": [
       "-0.013830854587269625"
      ]
     },
     "execution_count": 141,
     "metadata": {},
     "output_type": "execute_result"
    }
   ],
   "source": [
    "dt.score(X_test, y_test)"
   ]
  },
  {
   "cell_type": "code",
   "execution_count": 187,
   "id": "479e4f3d",
   "metadata": {},
   "outputs": [
    {
     "data": {
      "text/html": [
       "<div>\n",
       "<style scoped>\n",
       "    .dataframe tbody tr th:only-of-type {\n",
       "        vertical-align: middle;\n",
       "    }\n",
       "\n",
       "    .dataframe tbody tr th {\n",
       "        vertical-align: top;\n",
       "    }\n",
       "\n",
       "    .dataframe thead th {\n",
       "        text-align: right;\n",
       "    }\n",
       "</style>\n",
       "<table border=\"1\" class=\"dataframe\">\n",
       "  <thead>\n",
       "    <tr style=\"text-align: right;\">\n",
       "      <th></th>\n",
       "      <th>RMSE</th>\n",
       "      <th>Rsq</th>\n",
       "    </tr>\n",
       "  </thead>\n",
       "  <tbody>\n",
       "    <tr>\n",
       "      <th>DecisionTreeRegressor</th>\n",
       "      <td>15.499501</td>\n",
       "      <td>-0.013831</td>\n",
       "    </tr>\n",
       "  </tbody>\n",
       "</table>\n",
       "</div>"
      ],
      "text/plain": [
       "                            RMSE       Rsq\n",
       "DecisionTreeRegressor  15.499501 -0.013831"
      ]
     },
     "execution_count": 187,
     "metadata": {},
     "output_type": "execute_result"
    }
   ],
   "source": [
    "#Data Frame to store model scores\n",
    "model_scores = pd.DataFrame([[rmse_dt,r2_dt]],columns=['RMSE','Rsq'], index = ['DecisionTreeRegressor'])\n",
    "model_scores"
   ]
  },
  {
   "cell_type": "code",
   "execution_count": 188,
   "id": "2e8610e6",
   "metadata": {},
   "outputs": [
    {
     "name": "stdout",
     "output_type": "stream",
     "text": [
      "261 samples were used to train the model\n",
      "The average train accuracy is 0.26\n",
      "The average test accuracy is -0.15\n",
      "523 samples were used to train the model\n",
      "The average train accuracy is 0.18\n",
      "The average test accuracy is -0.10\n",
      "785 samples were used to train the model\n",
      "The average train accuracy is 0.13\n",
      "The average test accuracy is -0.09\n"
     ]
    }
   ],
   "source": [
    "from sklearn.model_selection import learning_curve\n",
    "\n",
    "train_size_abs, train_scores, test_scores = learning_curve(\n",
    "dt, X, y, train_sizes =[0.3,0.6,0.9])\n",
    "\n",
    "for train_size, cv_train_scores, cv_test_scores in zip(\n",
    "    train_size_abs, train_scores, test_scores\n",
    "):\n",
    "    print(f\"{train_size} samples were used to train the model\")\n",
    "    print(f\"The average train accuracy is {cv_train_scores.mean():.2f}\")\n",
    "    print(f\"The average test accuracy is {cv_test_scores.mean():.2f}\")"
   ]
  },
  {
   "cell_type": "code",
   "execution_count": 189,
   "id": "523e650b",
   "metadata": {},
   "outputs": [],
   "source": [
    "#looks like my model could improve with more data"
   ]
  },
  {
   "cell_type": "markdown",
   "id": "b09ee9a2",
   "metadata": {},
   "source": [
    "## random forest regressor"
   ]
  },
  {
   "cell_type": "code",
   "execution_count": 190,
   "id": "667f9e80",
   "metadata": {},
   "outputs": [],
   "source": [
    "from sklearn.ensemble import RandomForestRegressor\n",
    "RFR = RandomForestRegressor()"
   ]
  },
  {
   "cell_type": "code",
   "execution_count": 191,
   "id": "bf95af2a",
   "metadata": {},
   "outputs": [
    {
     "name": "stdout",
     "output_type": "stream",
     "text": [
      "14.49666229586932\n",
      "0.07619846072949654\n"
     ]
    }
   ],
   "source": [
    "RFR.fit(X_train, y_train)\n",
    "y_pred = RFR.predict(X_test)\n",
    "mse_RFR = MSE(y_test, y_pred)\n",
    "print(mse_RFR**(1/2))\n",
    "print(RFR.score(X_test,y_test))\n"
   ]
  },
  {
   "cell_type": "code",
   "execution_count": 192,
   "id": "1fb5a7bd",
   "metadata": {},
   "outputs": [
    {
     "data": {
      "text/plain": [
       "count    1092.000000\n",
       "mean       24.143766\n",
       "std        15.478300\n",
       "min         0.000000\n",
       "25%        13.105843\n",
       "50%        23.172891\n",
       "75%        32.853202\n",
       "max       109.615291\n",
       "Name: Lv_Bs_A, dtype: float64"
      ]
     },
     "execution_count": 192,
     "metadata": {},
     "output_type": "execute_result"
    }
   ],
   "source": [
    "y.describe()\n",
    "#does not really seem like a good model considering the data"
   ]
  },
  {
   "cell_type": "markdown",
   "id": "e0d395a6",
   "metadata": {},
   "source": [
    "### grid search for parameters"
   ]
  },
  {
   "cell_type": "code",
   "execution_count": 193,
   "id": "d050d1f9",
   "metadata": {},
   "outputs": [
    {
     "name": "stdout",
     "output_type": "stream",
     "text": [
      "Best parameter (CV score=0.109):\n",
      "{'min_samples_split': 4}\n",
      "CPU times: user 8.39 s, sys: 163 ms, total: 8.56 s\n",
      "Wall time: 9.45 s\n"
     ]
    }
   ],
   "source": [
    "%%time\n",
    "from sklearn.model_selection import GridSearchCV\n",
    "param_grid = {\n",
    "    #\"n_estimators\" : [1000,10000]\n",
    "    #\"max_depth\": [1,3,5]\n",
    "    \"min_samples_split\":[2,4,8]\n",
    "}\n",
    "\n",
    "est = RFR\n",
    "search = GridSearchCV(est, param_grid, cv=5)\n",
    "search.fit(X_train, y_train)\n",
    "print(\"Best parameter (CV score=%0.3f):\" % search.best_score_)\n",
    "print(search.best_params_)"
   ]
  },
  {
   "cell_type": "code",
   "execution_count": 194,
   "id": "247de3a8",
   "metadata": {},
   "outputs": [],
   "source": [
    "RFR = RandomForestRegressor(n_estimators=1000,max_depth=4,min_samples_split=8)"
   ]
  },
  {
   "cell_type": "code",
   "execution_count": 195,
   "id": "2d9bc552",
   "metadata": {},
   "outputs": [
    {
     "name": "stdout",
     "output_type": "stream",
     "text": [
      "14.842024723474754\n"
     ]
    },
    {
     "name": "stderr",
     "output_type": "stream",
     "text": [
      "/var/folders/_3/3qrdy8394_54yc_s6bwkjvhc0000gn/T/ipykernel_30905/1697301981.py:10: FutureWarning: The frame.append method is deprecated and will be removed from pandas in a future version. Use pandas.concat instead.\n",
      "  model_scores = model_scores.append(newDF)\n"
     ]
    },
    {
     "data": {
      "text/html": [
       "<div>\n",
       "<style scoped>\n",
       "    .dataframe tbody tr th:only-of-type {\n",
       "        vertical-align: middle;\n",
       "    }\n",
       "\n",
       "    .dataframe tbody tr th {\n",
       "        vertical-align: top;\n",
       "    }\n",
       "\n",
       "    .dataframe thead th {\n",
       "        text-align: right;\n",
       "    }\n",
       "</style>\n",
       "<table border=\"1\" class=\"dataframe\">\n",
       "  <thead>\n",
       "    <tr style=\"text-align: right;\">\n",
       "      <th></th>\n",
       "      <th>RMSE</th>\n",
       "      <th>Rsq</th>\n",
       "    </tr>\n",
       "  </thead>\n",
       "  <tbody>\n",
       "    <tr>\n",
       "      <th>DecisionTreeRegressor</th>\n",
       "      <td>15.499501</td>\n",
       "      <td>-0.013831</td>\n",
       "    </tr>\n",
       "    <tr>\n",
       "      <th>RandomForestRegressor</th>\n",
       "      <td>14.636072</td>\n",
       "      <td>0.058345</td>\n",
       "    </tr>\n",
       "  </tbody>\n",
       "</table>\n",
       "</div>"
      ],
      "text/plain": [
       "                            RMSE       Rsq\n",
       "DecisionTreeRegressor  15.499501 -0.013831\n",
       "RandomForestRegressor  14.636072  0.058345"
      ]
     },
     "execution_count": 195,
     "metadata": {},
     "output_type": "execute_result"
    }
   ],
   "source": [
    "RFR.fit(X_train, y_train)\n",
    "y_pred = RFR.predict(X_test)\n",
    "mse_RFR = MSE(y_test, y_pred)\n",
    "rmse=mse_RFR**(1/2)\n",
    "r2=RFR.score(X_test,y_test)\n",
    "print(rmse_RFR)\n",
    "#not much change from above when I use n_estimators =1000\n",
    "\n",
    "newDF = pd.DataFrame([[rmse,r2]],columns=['RMSE','Rsq'], index = ['RandomForestRegressor'])\n",
    "model_scores = model_scores.append(newDF)\n",
    "model_scores"
   ]
  },
  {
   "cell_type": "code",
   "execution_count": 151,
   "id": "44bc07d9",
   "metadata": {
    "scrolled": true
   },
   "outputs": [
    {
     "data": {
      "text/plain": [
       "0.2904349452226913"
      ]
     },
     "execution_count": 151,
     "metadata": {},
     "output_type": "execute_result"
    }
   ],
   "source": [
    "RFR.score(X_train, y_train)"
   ]
  },
  {
   "cell_type": "code",
   "execution_count": 196,
   "id": "81e25e56",
   "metadata": {},
   "outputs": [
    {
     "name": "stdout",
     "output_type": "stream",
     "text": [
      "261 samples were used to train the model\n",
      "The average train accuracy is 0.46\n",
      "The average test accuracy is -0.15\n",
      "523 samples were used to train the model\n",
      "The average train accuracy is 0.34\n",
      "The average test accuracy is -0.04\n",
      "785 samples were used to train the model\n",
      "The average train accuracy is 0.29\n",
      "The average test accuracy is -0.03\n"
     ]
    }
   ],
   "source": [
    "train_size_abs, train_scores, test_scores = learning_curve(\n",
    "RFR, X, y, train_sizes =[0.3,0.6,0.9])\n",
    "\n",
    "for train_size, cv_train_scores, cv_test_scores in zip(\n",
    "    train_size_abs, train_scores, test_scores\n",
    "):\n",
    "    print(f\"{train_size} samples were used to train the model\")\n",
    "    print(f\"The average train accuracy is {cv_train_scores.mean():.2f}\")\n",
    "    print(f\"The average test accuracy is {cv_test_scores.mean():.2f}\")"
   ]
  },
  {
   "cell_type": "code",
   "execution_count": 153,
   "id": "1d519da9",
   "metadata": {},
   "outputs": [],
   "source": [
    "#definitely seems I could benefit from more samples..."
   ]
  },
  {
   "cell_type": "markdown",
   "id": "2e2c9730",
   "metadata": {},
   "source": [
    "it's easy to make the R2 for training data go down but impossible to make the score for test data go up. "
   ]
  },
  {
   "cell_type": "code",
   "execution_count": 197,
   "id": "4ee4c457",
   "metadata": {},
   "outputs": [],
   "source": [
    "RFR = RandomForestRegressor(n_estimators=1000,max_depth=20)"
   ]
  },
  {
   "cell_type": "code",
   "execution_count": 198,
   "id": "8135d715",
   "metadata": {},
   "outputs": [
    {
     "name": "stderr",
     "output_type": "stream",
     "text": [
      "/var/folders/_3/3qrdy8394_54yc_s6bwkjvhc0000gn/T/ipykernel_30905/2066823324.py:8: FutureWarning: The frame.append method is deprecated and will be removed from pandas in a future version. Use pandas.concat instead.\n",
      "  model_scores = model_scores.append(newDF)\n"
     ]
    },
    {
     "data": {
      "text/html": [
       "<div>\n",
       "<style scoped>\n",
       "    .dataframe tbody tr th:only-of-type {\n",
       "        vertical-align: middle;\n",
       "    }\n",
       "\n",
       "    .dataframe tbody tr th {\n",
       "        vertical-align: top;\n",
       "    }\n",
       "\n",
       "    .dataframe thead th {\n",
       "        text-align: right;\n",
       "    }\n",
       "</style>\n",
       "<table border=\"1\" class=\"dataframe\">\n",
       "  <thead>\n",
       "    <tr style=\"text-align: right;\">\n",
       "      <th></th>\n",
       "      <th>RMSE</th>\n",
       "      <th>Rsq</th>\n",
       "    </tr>\n",
       "  </thead>\n",
       "  <tbody>\n",
       "    <tr>\n",
       "      <th>DecisionTreeRegressor</th>\n",
       "      <td>15.499501</td>\n",
       "      <td>-0.013831</td>\n",
       "    </tr>\n",
       "    <tr>\n",
       "      <th>RandomForestRegressor</th>\n",
       "      <td>14.636072</td>\n",
       "      <td>0.058345</td>\n",
       "    </tr>\n",
       "    <tr>\n",
       "      <th>RandomForestRegressor2</th>\n",
       "      <td>14.462728</td>\n",
       "      <td>0.080518</td>\n",
       "    </tr>\n",
       "  </tbody>\n",
       "</table>\n",
       "</div>"
      ],
      "text/plain": [
       "                             RMSE       Rsq\n",
       "DecisionTreeRegressor   15.499501 -0.013831\n",
       "RandomForestRegressor   14.636072  0.058345\n",
       "RandomForestRegressor2  14.462728  0.080518"
      ]
     },
     "execution_count": 198,
     "metadata": {},
     "output_type": "execute_result"
    }
   ],
   "source": [
    "RFR.fit(X_train, y_train)\n",
    "y_pred = RFR.predict(X_test)\n",
    "mse_RFR = MSE(y_test, y_pred)\n",
    "rmse=mse_RFR**(1/2)\n",
    "r2=RFR.score(X_test, y_test)\n",
    "\n",
    "newDF = pd.DataFrame([[rmse,r2]],columns=['RMSE','Rsq'], index = ['RandomForestRegressor2'])\n",
    "model_scores = model_scores.append(newDF)\n",
    "model_scores"
   ]
  },
  {
   "cell_type": "code",
   "execution_count": 156,
   "id": "2e24e8ef",
   "metadata": {},
   "outputs": [
    {
     "data": {
      "text/plain": [
       "0.8623545532933459"
      ]
     },
     "execution_count": 156,
     "metadata": {},
     "output_type": "execute_result"
    }
   ],
   "source": [
    "RFR.score(X_train,y_train)"
   ]
  },
  {
   "cell_type": "markdown",
   "id": "6c28c9fb",
   "metadata": {},
   "source": [
    "Changing max depth doesn't fix the disparity between train and test. "
   ]
  },
  {
   "cell_type": "markdown",
   "id": "dedba50b",
   "metadata": {},
   "source": [
    "### Standard Scaler "
   ]
  },
  {
   "cell_type": "code",
   "execution_count": 157,
   "id": "b463ff69",
   "metadata": {
    "scrolled": true
   },
   "outputs": [
    {
     "data": {
      "text/html": [
       "<div>\n",
       "<style scoped>\n",
       "    .dataframe tbody tr th:only-of-type {\n",
       "        vertical-align: middle;\n",
       "    }\n",
       "\n",
       "    .dataframe tbody tr th {\n",
       "        vertical-align: top;\n",
       "    }\n",
       "\n",
       "    .dataframe thead th {\n",
       "        text-align: right;\n",
       "    }\n",
       "</style>\n",
       "<table border=\"1\" class=\"dataframe\">\n",
       "  <thead>\n",
       "    <tr style=\"text-align: right;\">\n",
       "      <th></th>\n",
       "      <th>ID</th>\n",
       "      <th>Transct</th>\n",
       "      <th>Plot</th>\n",
       "      <th>Elevatn</th>\n",
       "      <th>Slope</th>\n",
       "      <th>Aspect</th>\n",
       "      <th>Frst_Ty</th>\n",
       "      <th>Hrvst_H</th>\n",
       "      <th>Age_DBH</th>\n",
       "      <th>Lv_Bs_A</th>\n",
       "      <th>...</th>\n",
       "      <th>B04_median</th>\n",
       "      <th>B05_median</th>\n",
       "      <th>B06_median</th>\n",
       "      <th>B11_median</th>\n",
       "      <th>B12_median</th>\n",
       "      <th>B8A_median</th>\n",
       "      <th>SCL_median</th>\n",
       "      <th>TCI_median</th>\n",
       "      <th>VIS_median</th>\n",
       "      <th>NDVI_median</th>\n",
       "    </tr>\n",
       "  </thead>\n",
       "  <tbody>\n",
       "    <tr>\n",
       "      <th>count</th>\n",
       "      <td>1092.000000</td>\n",
       "      <td>1092.000000</td>\n",
       "      <td>1092.000000</td>\n",
       "      <td>1092.000000</td>\n",
       "      <td>1092.000000</td>\n",
       "      <td>1092.000000</td>\n",
       "      <td>1092.000000</td>\n",
       "      <td>1092.000000</td>\n",
       "      <td>1092.000000</td>\n",
       "      <td>1092.000000</td>\n",
       "      <td>...</td>\n",
       "      <td>1092.000000</td>\n",
       "      <td>1092.000000</td>\n",
       "      <td>1092.000000</td>\n",
       "      <td>1092.000000</td>\n",
       "      <td>1092.000000</td>\n",
       "      <td>1092.000000</td>\n",
       "      <td>1092.000000</td>\n",
       "      <td>1092.000000</td>\n",
       "      <td>1092.000000</td>\n",
       "      <td>1092.000000</td>\n",
       "    </tr>\n",
       "    <tr>\n",
       "      <th>mean</th>\n",
       "      <td>546.500000</td>\n",
       "      <td>11.525641</td>\n",
       "      <td>3.535714</td>\n",
       "      <td>301.141941</td>\n",
       "      <td>18.508471</td>\n",
       "      <td>156.784799</td>\n",
       "      <td>352.331960</td>\n",
       "      <td>1.337912</td>\n",
       "      <td>116.709707</td>\n",
       "      <td>24.143766</td>\n",
       "      <td>...</td>\n",
       "      <td>177.664148</td>\n",
       "      <td>600.278388</td>\n",
       "      <td>1876.455014</td>\n",
       "      <td>1045.401328</td>\n",
       "      <td>452.565896</td>\n",
       "      <td>2491.788194</td>\n",
       "      <td>5.271635</td>\n",
       "      <td>20.585852</td>\n",
       "      <td>8.340621</td>\n",
       "      <td>12.854860</td>\n",
       "    </tr>\n",
       "    <tr>\n",
       "      <th>std</th>\n",
       "      <td>315.377552</td>\n",
       "      <td>16.240693</td>\n",
       "      <td>2.820900</td>\n",
       "      <td>219.310964</td>\n",
       "      <td>43.691485</td>\n",
       "      <td>129.643394</td>\n",
       "      <td>317.313098</td>\n",
       "      <td>1.872741</td>\n",
       "      <td>130.369460</td>\n",
       "      <td>15.478300</td>\n",
       "      <td>...</td>\n",
       "      <td>94.139270</td>\n",
       "      <td>240.597240</td>\n",
       "      <td>768.818850</td>\n",
       "      <td>456.503070</td>\n",
       "      <td>195.594926</td>\n",
       "      <td>1046.094645</td>\n",
       "      <td>32.849501</td>\n",
       "      <td>33.274217</td>\n",
       "      <td>34.678838</td>\n",
       "      <td>80.033474</td>\n",
       "    </tr>\n",
       "    <tr>\n",
       "      <th>min</th>\n",
       "      <td>1.000000</td>\n",
       "      <td>1.000000</td>\n",
       "      <td>1.000000</td>\n",
       "      <td>5.000000</td>\n",
       "      <td>0.000000</td>\n",
       "      <td>0.000000</td>\n",
       "      <td>100.000000</td>\n",
       "      <td>0.000000</td>\n",
       "      <td>0.000000</td>\n",
       "      <td>0.000000</td>\n",
       "      <td>...</td>\n",
       "      <td>0.000000</td>\n",
       "      <td>0.000000</td>\n",
       "      <td>0.000000</td>\n",
       "      <td>0.000000</td>\n",
       "      <td>0.000000</td>\n",
       "      <td>0.000000</td>\n",
       "      <td>0.000000</td>\n",
       "      <td>0.000000</td>\n",
       "      <td>0.000000</td>\n",
       "      <td>0.000000</td>\n",
       "    </tr>\n",
       "    <tr>\n",
       "      <th>25%</th>\n",
       "      <td>273.750000</td>\n",
       "      <td>2.000000</td>\n",
       "      <td>2.000000</td>\n",
       "      <td>112.000000</td>\n",
       "      <td>4.500000</td>\n",
       "      <td>32.000000</td>\n",
       "      <td>120.000000</td>\n",
       "      <td>0.000000</td>\n",
       "      <td>55.000000</td>\n",
       "      <td>13.105843</td>\n",
       "      <td>...</td>\n",
       "      <td>97.625000</td>\n",
       "      <td>394.968750</td>\n",
       "      <td>1263.250000</td>\n",
       "      <td>696.750000</td>\n",
       "      <td>298.750000</td>\n",
       "      <td>1690.187500</td>\n",
       "      <td>2.000000</td>\n",
       "      <td>10.500000</td>\n",
       "      <td>1.000000</td>\n",
       "      <td>0.849372</td>\n",
       "    </tr>\n",
       "    <tr>\n",
       "      <th>50%</th>\n",
       "      <td>546.500000</td>\n",
       "      <td>5.000000</td>\n",
       "      <td>3.000000</td>\n",
       "      <td>295.000000</td>\n",
       "      <td>10.000000</td>\n",
       "      <td>150.000000</td>\n",
       "      <td>120.000000</td>\n",
       "      <td>1.000000</td>\n",
       "      <td>78.000000</td>\n",
       "      <td>23.172891</td>\n",
       "      <td>...</td>\n",
       "      <td>168.187500</td>\n",
       "      <td>626.250000</td>\n",
       "      <td>1863.625000</td>\n",
       "      <td>997.000000</td>\n",
       "      <td>440.812500</td>\n",
       "      <td>2436.625000</td>\n",
       "      <td>4.000000</td>\n",
       "      <td>18.000000</td>\n",
       "      <td>2.000000</td>\n",
       "      <td>0.881145</td>\n",
       "    </tr>\n",
       "    <tr>\n",
       "      <th>75%</th>\n",
       "      <td>819.250000</td>\n",
       "      <td>12.250000</td>\n",
       "      <td>4.000000</td>\n",
       "      <td>412.250000</td>\n",
       "      <td>21.000000</td>\n",
       "      <td>254.000000</td>\n",
       "      <td>800.000000</td>\n",
       "      <td>1.000000</td>\n",
       "      <td>117.250000</td>\n",
       "      <td>32.853202</td>\n",
       "      <td>...</td>\n",
       "      <td>224.625000</td>\n",
       "      <td>778.687500</td>\n",
       "      <td>2478.500000</td>\n",
       "      <td>1374.812500</td>\n",
       "      <td>596.125000</td>\n",
       "      <td>3273.093750</td>\n",
       "      <td>4.000000</td>\n",
       "      <td>23.750000</td>\n",
       "      <td>4.000000</td>\n",
       "      <td>0.901073</td>\n",
       "    </tr>\n",
       "    <tr>\n",
       "      <th>max</th>\n",
       "      <td>1092.000000</td>\n",
       "      <td>69.000000</td>\n",
       "      <td>27.000000</td>\n",
       "      <td>1095.000000</td>\n",
       "      <td>546.500000</td>\n",
       "      <td>546.500000</td>\n",
       "      <td>960.000000</td>\n",
       "      <td>5.000000</td>\n",
       "      <td>546.500000</td>\n",
       "      <td>109.615291</td>\n",
       "      <td>...</td>\n",
       "      <td>623.250000</td>\n",
       "      <td>1354.500000</td>\n",
       "      <td>4194.000000</td>\n",
       "      <td>2498.250000</td>\n",
       "      <td>1185.250000</td>\n",
       "      <td>5827.000000</td>\n",
       "      <td>546.500000</td>\n",
       "      <td>546.500000</td>\n",
       "      <td>546.500000</td>\n",
       "      <td>546.500000</td>\n",
       "    </tr>\n",
       "  </tbody>\n",
       "</table>\n",
       "<p>8 rows × 31 columns</p>\n",
       "</div>"
      ],
      "text/plain": [
       "                ID      Transct         Plot      Elevatn        Slope  \\\n",
       "count  1092.000000  1092.000000  1092.000000  1092.000000  1092.000000   \n",
       "mean    546.500000    11.525641     3.535714   301.141941    18.508471   \n",
       "std     315.377552    16.240693     2.820900   219.310964    43.691485   \n",
       "min       1.000000     1.000000     1.000000     5.000000     0.000000   \n",
       "25%     273.750000     2.000000     2.000000   112.000000     4.500000   \n",
       "50%     546.500000     5.000000     3.000000   295.000000    10.000000   \n",
       "75%     819.250000    12.250000     4.000000   412.250000    21.000000   \n",
       "max    1092.000000    69.000000    27.000000  1095.000000   546.500000   \n",
       "\n",
       "            Aspect      Frst_Ty      Hrvst_H      Age_DBH      Lv_Bs_A  ...  \\\n",
       "count  1092.000000  1092.000000  1092.000000  1092.000000  1092.000000  ...   \n",
       "mean    156.784799   352.331960     1.337912   116.709707    24.143766  ...   \n",
       "std     129.643394   317.313098     1.872741   130.369460    15.478300  ...   \n",
       "min       0.000000   100.000000     0.000000     0.000000     0.000000  ...   \n",
       "25%      32.000000   120.000000     0.000000    55.000000    13.105843  ...   \n",
       "50%     150.000000   120.000000     1.000000    78.000000    23.172891  ...   \n",
       "75%     254.000000   800.000000     1.000000   117.250000    32.853202  ...   \n",
       "max     546.500000   960.000000     5.000000   546.500000   109.615291  ...   \n",
       "\n",
       "        B04_median   B05_median   B06_median   B11_median   B12_median  \\\n",
       "count  1092.000000  1092.000000  1092.000000  1092.000000  1092.000000   \n",
       "mean    177.664148   600.278388  1876.455014  1045.401328   452.565896   \n",
       "std      94.139270   240.597240   768.818850   456.503070   195.594926   \n",
       "min       0.000000     0.000000     0.000000     0.000000     0.000000   \n",
       "25%      97.625000   394.968750  1263.250000   696.750000   298.750000   \n",
       "50%     168.187500   626.250000  1863.625000   997.000000   440.812500   \n",
       "75%     224.625000   778.687500  2478.500000  1374.812500   596.125000   \n",
       "max     623.250000  1354.500000  4194.000000  2498.250000  1185.250000   \n",
       "\n",
       "        B8A_median   SCL_median   TCI_median   VIS_median  NDVI_median  \n",
       "count  1092.000000  1092.000000  1092.000000  1092.000000  1092.000000  \n",
       "mean   2491.788194     5.271635    20.585852     8.340621    12.854860  \n",
       "std    1046.094645    32.849501    33.274217    34.678838    80.033474  \n",
       "min       0.000000     0.000000     0.000000     0.000000     0.000000  \n",
       "25%    1690.187500     2.000000    10.500000     1.000000     0.849372  \n",
       "50%    2436.625000     4.000000    18.000000     2.000000     0.881145  \n",
       "75%    3273.093750     4.000000    23.750000     4.000000     0.901073  \n",
       "max    5827.000000   546.500000   546.500000   546.500000   546.500000  \n",
       "\n",
       "[8 rows x 31 columns]"
      ]
     },
     "execution_count": 157,
     "metadata": {},
     "output_type": "execute_result"
    }
   ],
   "source": [
    "med_df.describe()\n",
    "#They definitely have different scales so I will try scaling the data\n",
    "#Use for a non-forest model like ridge or linear regression"
   ]
  },
  {
   "cell_type": "code",
   "execution_count": 158,
   "id": "c4a385ab",
   "metadata": {},
   "outputs": [],
   "source": [
    "from sklearn.preprocessing import StandardScaler\n",
    "\n",
    "scaler = StandardScaler()\n",
    "\n",
    "# Below two lines are identical to X_trans = scaler.fit_transform(X)\n",
    "scaler.fit(X)         \n",
    "X_trans = scaler.transform(X)  "
   ]
  },
  {
   "cell_type": "code",
   "execution_count": 159,
   "id": "eca8ee1f",
   "metadata": {},
   "outputs": [
    {
     "data": {
      "image/png": "[encoded data removed]",
      "text/plain": [
       "<Figure size 1400x500 with 2 Axes>"
      ]
     },
     "metadata": {},
     "output_type": "display_data"
    }
   ],
   "source": [
    "fig = plt.figure(figsize=(14,5))\n",
    "\n",
    "plt.subplot(1, 2, 1)\n",
    "plt.plot(X, y, '.',color='k')\n",
    "plt.title('Basal Area vs. Median satelite values')\n",
    "plt.xlabel('Satelite Values')\n",
    "plt.ylabel('Biomass (Basal Area)')\n",
    "\n",
    "plt.subplot(1, 2, 2)\n",
    "plt.plot(X_trans, y, '.',color='k')\n",
    "plt.title('Basal Area vs. Median satelite values')\n",
    "plt.xlabel('Satelite Values - AFTER standard scaler')\n",
    "plt.ylabel('Biomass (Basal Area)')\n",
    "\n",
    "fig.tight_layout()\n",
    "#not sure if this is actually an improvement based on looking."
   ]
  },
  {
   "cell_type": "markdown",
   "id": "fd30d51d",
   "metadata": {},
   "source": [
    "# Ridge Regression"
   ]
  },
  {
   "cell_type": "code",
   "execution_count": 199,
   "id": "85df762e",
   "metadata": {},
   "outputs": [
    {
     "name": "stderr",
     "output_type": "stream",
     "text": [
      "/var/folders/_3/3qrdy8394_54yc_s6bwkjvhc0000gn/T/ipykernel_30905/4132003417.py:17: FutureWarning: The frame.append method is deprecated and will be removed from pandas in a future version. Use pandas.concat instead.\n",
      "  model_scores = model_scores.append(newDF)\n"
     ]
    },
    {
     "data": {
      "text/html": [
       "<div>\n",
       "<style scoped>\n",
       "    .dataframe tbody tr th:only-of-type {\n",
       "        vertical-align: middle;\n",
       "    }\n",
       "\n",
       "    .dataframe tbody tr th {\n",
       "        vertical-align: top;\n",
       "    }\n",
       "\n",
       "    .dataframe thead th {\n",
       "        text-align: right;\n",
       "    }\n",
       "</style>\n",
       "<table border=\"1\" class=\"dataframe\">\n",
       "  <thead>\n",
       "    <tr style=\"text-align: right;\">\n",
       "      <th></th>\n",
       "      <th>RMSE</th>\n",
       "      <th>Rsq</th>\n",
       "    </tr>\n",
       "  </thead>\n",
       "  <tbody>\n",
       "    <tr>\n",
       "      <th>DecisionTreeRegressor</th>\n",
       "      <td>15.499501</td>\n",
       "      <td>-0.013831</td>\n",
       "    </tr>\n",
       "    <tr>\n",
       "      <th>RandomForestRegressor</th>\n",
       "      <td>14.636072</td>\n",
       "      <td>0.058345</td>\n",
       "    </tr>\n",
       "    <tr>\n",
       "      <th>RandomForestRegressor2</th>\n",
       "      <td>14.462728</td>\n",
       "      <td>0.080518</td>\n",
       "    </tr>\n",
       "    <tr>\n",
       "      <th>RidgeRegression</th>\n",
       "      <td>15.083134</td>\n",
       "      <td>-0.000059</td>\n",
       "    </tr>\n",
       "  </tbody>\n",
       "</table>\n",
       "</div>"
      ],
      "text/plain": [
       "                             RMSE       Rsq\n",
       "DecisionTreeRegressor   15.499501 -0.013831\n",
       "RandomForestRegressor   14.636072  0.058345\n",
       "RandomForestRegressor2  14.462728  0.080518\n",
       "RidgeRegression         15.083134 -0.000059"
      ]
     },
     "execution_count": 199,
     "metadata": {},
     "output_type": "execute_result"
    }
   ],
   "source": [
    "from sklearn.linear_model import Ridge\n",
    "from sklearn.metrics import r2_score\n",
    "\n",
    "X_train, X_test, y_train, y_test = train_test_split(X_trans,y, test_size=0.3, random_state=3)\n",
    "\n",
    "ridge=Ridge(alpha = 0.1)\n",
    "\n",
    "ridge.fit(X_train, y_train)\n",
    "\n",
    "y_pred = ridge.predict(X_test)\n",
    "r2 = r2_score(y_test,y_pred)\n",
    "\n",
    "mse_RR = MSE(y_test, y_pred)\n",
    "rmse=mse_RR**(1/2)\n",
    "\n",
    "newDF = pd.DataFrame([[rmse,r2]],columns=['RMSE','Rsq'], index = ['RidgeRegression'])\n",
    "model_scores = model_scores.append(newDF)\n",
    "model_scores\n"
   ]
  },
  {
   "cell_type": "code",
   "execution_count": 161,
   "id": "a41c2b11",
   "metadata": {},
   "outputs": [
    {
     "name": "stdout",
     "output_type": "stream",
     "text": [
      "Best parameter (CV score=0.035):\n",
      "{'alpha': 0.1}\n",
      "CPU times: user 121 ms, sys: 8.47 ms, total: 130 ms\n",
      "Wall time: 94.3 ms\n"
     ]
    }
   ],
   "source": [
    "%%time\n",
    "from sklearn.model_selection import GridSearchCV\n",
    "param_grid = {\n",
    "    \"alpha\": [0.01, 0.1, 1, 10, 100]\n",
    "}\n",
    "\n",
    "est = ridge\n",
    "search = GridSearchCV(est, param_grid, cv=5)\n",
    "search.fit(X_train, y_train)\n",
    "print(\"Best parameter (CV score=%0.3f):\" % search.best_score_)\n",
    "print(search.best_params_)"
   ]
  },
  {
   "cell_type": "markdown",
   "id": "6873ad97",
   "metadata": {},
   "source": [
    "# SVM "
   ]
  },
  {
   "cell_type": "code",
   "execution_count": 200,
   "id": "4a7dac6d",
   "metadata": {},
   "outputs": [
    {
     "data": {
      "text/plain": [
       "Pipeline(steps=[('standardscaler', StandardScaler()),\n",
       "                ('svr', SVR(C=25, epsilon=0.2, kernel='linear'))])"
      ]
     },
     "execution_count": 200,
     "metadata": {},
     "output_type": "execute_result"
    }
   ],
   "source": [
    "from sklearn.pipeline import Pipeline\n",
    "from sklearn.svm import SVR\n",
    "from sklearn.pipeline import make_pipeline\n",
    "from sklearn.preprocessing import StandardScaler\n",
    "\n",
    "\n",
    "X_train, X_test, y_train, y_test = train_test_split(X_trans,y, test_size=0.3, random_state=3)\n",
    "\n",
    "regr = make_pipeline(StandardScaler(), SVR(kernel='linear',C=25, epsilon=0.2))\n",
    "regr.fit(X_test, y_test)"
   ]
  },
  {
   "cell_type": "code",
   "execution_count": 201,
   "id": "eca566aa",
   "metadata": {},
   "outputs": [
    {
     "name": "stderr",
     "output_type": "stream",
     "text": [
      "/var/folders/_3/3qrdy8394_54yc_s6bwkjvhc0000gn/T/ipykernel_30905/4238563496.py:14: FutureWarning: The frame.append method is deprecated and will be removed from pandas in a future version. Use pandas.concat instead.\n",
      "  model_scores = model_scores.append(newDF)\n"
     ]
    },
    {
     "data": {
      "text/html": [
       "<div>\n",
       "<style scoped>\n",
       "    .dataframe tbody tr th:only-of-type {\n",
       "        vertical-align: middle;\n",
       "    }\n",
       "\n",
       "    .dataframe tbody tr th {\n",
       "        vertical-align: top;\n",
       "    }\n",
       "\n",
       "    .dataframe thead th {\n",
       "        text-align: right;\n",
       "    }\n",
       "</style>\n",
       "<table border=\"1\" class=\"dataframe\">\n",
       "  <thead>\n",
       "    <tr style=\"text-align: right;\">\n",
       "      <th></th>\n",
       "      <th>RMSE</th>\n",
       "      <th>Rsq</th>\n",
       "    </tr>\n",
       "  </thead>\n",
       "  <tbody>\n",
       "    <tr>\n",
       "      <th>DecisionTreeRegressor</th>\n",
       "      <td>15.499501</td>\n",
       "      <td>-0.013831</td>\n",
       "    </tr>\n",
       "    <tr>\n",
       "      <th>RandomForestRegressor</th>\n",
       "      <td>14.636072</td>\n",
       "      <td>0.058345</td>\n",
       "    </tr>\n",
       "    <tr>\n",
       "      <th>RandomForestRegressor2</th>\n",
       "      <td>14.462728</td>\n",
       "      <td>0.080518</td>\n",
       "    </tr>\n",
       "    <tr>\n",
       "      <th>RidgeRegression</th>\n",
       "      <td>15.083134</td>\n",
       "      <td>-0.000059</td>\n",
       "    </tr>\n",
       "    <tr>\n",
       "      <th>SVM</th>\n",
       "      <td>15.083134</td>\n",
       "      <td>0.026819</td>\n",
       "    </tr>\n",
       "  </tbody>\n",
       "</table>\n",
       "</div>"
      ],
      "text/plain": [
       "                             RMSE       Rsq\n",
       "DecisionTreeRegressor   15.499501 -0.013831\n",
       "RandomForestRegressor   14.636072  0.058345\n",
       "RandomForestRegressor2  14.462728  0.080518\n",
       "RidgeRegression         15.083134 -0.000059\n",
       "SVM                     15.083134  0.026819"
      ]
     },
     "execution_count": 201,
     "metadata": {},
     "output_type": "execute_result"
    }
   ],
   "source": [
    "y_pred = regr.predict(X_test)\n",
    "\n",
    "\n",
    "mse_SVM = MSE(y_test, y_pred)\n",
    "rmse_=mse_SVM**(1/2)\n",
    "r2 = r2_score(y_test,y_pred)\n",
    "#attempt 1 r2 = -36\n",
    "#attempt 2 r2 = -23 (changed kernel to linear)\n",
    "#attempt 3 r2 = -6 (C=1150)\n",
    "#attempt 4 r2 = -11 (grid search with scaled data, C = 25)\n",
    "\n",
    "\n",
    "newDF = pd.DataFrame([[rmse,r2]],columns=['RMSE','Rsq'], index = ['SVM'])\n",
    "model_scores = model_scores.append(newDF)\n",
    "model_scores"
   ]
  },
  {
   "cell_type": "code",
   "execution_count": 164,
   "id": "20e6d695",
   "metadata": {},
   "outputs": [
    {
     "name": "stdout",
     "output_type": "stream",
     "text": [
      "Best parameter (CV score=0.105):\n",
      "{'C': 25}\n"
     ]
    }
   ],
   "source": [
    "X_train, X_test, y_train, y_test = train_test_split(X_trans,y, test_size=0.3, random_state=3)\n",
    "\n",
    "param_grid = {\n",
    "    \"C\": [20,25,30]\n",
    "}\n",
    "svr = SVR()\n",
    "est = svr\n",
    "\n",
    "search = GridSearchCV(est, param_grid, cv=5)\n",
    "search.fit(X_train, y_train)\n",
    "print(\"Best parameter (CV score=%0.3f):\" % search.best_score_)\n",
    "print(search.best_params_)"
   ]
  },
  {
   "cell_type": "markdown",
   "id": "339e383e",
   "metadata": {},
   "source": [
    "# Back to Random Forest and Try Gradient Boosting"
   ]
  },
  {
   "cell_type": "markdown",
   "id": "64a88958",
   "metadata": {},
   "source": [
    "# Gradient Boost"
   ]
  },
  {
   "cell_type": "code",
   "execution_count": 202,
   "id": "3de83a6a",
   "metadata": {},
   "outputs": [
    {
     "name": "stderr",
     "output_type": "stream",
     "text": [
      "/var/folders/_3/3qrdy8394_54yc_s6bwkjvhc0000gn/T/ipykernel_30905/3637621921.py:22: FutureWarning: The frame.append method is deprecated and will be removed from pandas in a future version. Use pandas.concat instead.\n",
      "  model_scores = model_scores.append(newDF)\n"
     ]
    },
    {
     "data": {
      "text/html": [
       "<div>\n",
       "<style scoped>\n",
       "    .dataframe tbody tr th:only-of-type {\n",
       "        vertical-align: middle;\n",
       "    }\n",
       "\n",
       "    .dataframe tbody tr th {\n",
       "        vertical-align: top;\n",
       "    }\n",
       "\n",
       "    .dataframe thead th {\n",
       "        text-align: right;\n",
       "    }\n",
       "</style>\n",
       "<table border=\"1\" class=\"dataframe\">\n",
       "  <thead>\n",
       "    <tr style=\"text-align: right;\">\n",
       "      <th></th>\n",
       "      <th>RMSE</th>\n",
       "      <th>Rsq</th>\n",
       "    </tr>\n",
       "  </thead>\n",
       "  <tbody>\n",
       "    <tr>\n",
       "      <th>DecisionTreeRegressor</th>\n",
       "      <td>15.499501</td>\n",
       "      <td>-0.013831</td>\n",
       "    </tr>\n",
       "    <tr>\n",
       "      <th>RandomForestRegressor</th>\n",
       "      <td>14.636072</td>\n",
       "      <td>0.058345</td>\n",
       "    </tr>\n",
       "    <tr>\n",
       "      <th>RandomForestRegressor2</th>\n",
       "      <td>14.462728</td>\n",
       "      <td>0.080518</td>\n",
       "    </tr>\n",
       "    <tr>\n",
       "      <th>RidgeRegression</th>\n",
       "      <td>15.083134</td>\n",
       "      <td>-0.000059</td>\n",
       "    </tr>\n",
       "    <tr>\n",
       "      <th>SVM</th>\n",
       "      <td>15.083134</td>\n",
       "      <td>0.026819</td>\n",
       "    </tr>\n",
       "    <tr>\n",
       "      <th>GradientBoostRFR</th>\n",
       "      <td>14.462728</td>\n",
       "      <td>0.033524</td>\n",
       "    </tr>\n",
       "  </tbody>\n",
       "</table>\n",
       "</div>"
      ],
      "text/plain": [
       "                             RMSE       Rsq\n",
       "DecisionTreeRegressor   15.499501 -0.013831\n",
       "RandomForestRegressor   14.636072  0.058345\n",
       "RandomForestRegressor2  14.462728  0.080518\n",
       "RidgeRegression         15.083134 -0.000059\n",
       "SVM                     15.083134  0.026819\n",
       "GradientBoostRFR        14.462728  0.033524"
      ]
     },
     "execution_count": 202,
     "metadata": {},
     "output_type": "execute_result"
    }
   ],
   "source": [
    "# GradientBoostingRegressor\n",
    "from sklearn import ensemble\n",
    "\n",
    "gradient_reg = ensemble.GradientBoostingRegressor(learning_rate =0.1, \n",
    "                                                  n_estimators=100,subsample=0.85)\n",
    "\n",
    "gradient_reg.fit(X_train,y_train)\n",
    "y_pred = gradient_reg.predict(X_test)\n",
    "\n",
    "mse_GBrandomforest = MSE(y_test, y_pred)\n",
    "rmse=mse_RFR**(1/2)\n",
    "r2 = r2_score(y_test,y_pred)\n",
    "\n",
    "#default loss is best R2 = -2.9\n",
    "#after gridsearch, R2 is worse. -5.15\n",
    "#the more I try to improve things the worse they get R2 -9\n",
    "# at least it's going up R2 = -6.25\n",
    "#back to defaults for learning_rate and n_estimators\n",
    "#subsample = 0.8 R2 = -2.8\n",
    "\n",
    "newDF = pd.DataFrame([[rmse,r2]],columns=['RMSE','Rsq'], index = ['GradientBoostRFR'])\n",
    "model_scores = model_scores.append(newDF)\n",
    "model_scores"
   ]
  },
  {
   "cell_type": "code",
   "execution_count": 203,
   "id": "6fb71023",
   "metadata": {},
   "outputs": [
    {
     "name": "stdout",
     "output_type": "stream",
     "text": [
      "Best parameter (CV score=0.088):\n",
      "{'subsample': 0.85}\n",
      "CPU times: user 4.67 s, sys: 77.1 ms, total: 4.75 s\n",
      "Wall time: 5.23 s\n"
     ]
    }
   ],
   "source": [
    "%%time\n",
    "from sklearn.model_selection import GridSearchCV\n",
    "param_grid = {\n",
    "    #\"learning_rate\" : [0.05, 0.1, 1],\n",
    "    #\"n_estimators\" : [40,65,100,200],\n",
    "    \"subsample\" : [0.75,0.8,0.85,1]\n",
    "}\n",
    "\n",
    "est = gradient_reg\n",
    "search = GridSearchCV(est, param_grid, cv=5)\n",
    "search.fit(X_train, y_train)\n",
    "print(\"Best parameter (CV score=%0.3f):\" % search.best_score_)\n",
    "print(search.best_params_)"
   ]
  },
  {
   "cell_type": "code",
   "execution_count": null,
   "id": "a2c4e691",
   "metadata": {},
   "outputs": [],
   "source": []
  },
  {
   "cell_type": "markdown",
   "id": "b8dd0ba7",
   "metadata": {},
   "source": [
    "## Figures for model comparison"
   ]
  },
  {
   "cell_type": "code",
   "execution_count": 204,
   "id": "f4d80447",
   "metadata": {},
   "outputs": [
    {
     "data": {
      "text/html": [
       "<div>\n",
       "<style scoped>\n",
       "    .dataframe tbody tr th:only-of-type {\n",
       "        vertical-align: middle;\n",
       "    }\n",
       "\n",
       "    .dataframe tbody tr th {\n",
       "        vertical-align: top;\n",
       "    }\n",
       "\n",
       "    .dataframe thead th {\n",
       "        text-align: right;\n",
       "    }\n",
       "</style>\n",
       "<table border=\"1\" class=\"dataframe\">\n",
       "  <thead>\n",
       "    <tr style=\"text-align: right;\">\n",
       "      <th></th>\n",
       "      <th>RMSE</th>\n",
       "      <th>Rsq</th>\n",
       "    </tr>\n",
       "  </thead>\n",
       "  <tbody>\n",
       "    <tr>\n",
       "      <th>DecisionTreeRegressor</th>\n",
       "      <td>15.499501</td>\n",
       "      <td>-0.013831</td>\n",
       "    </tr>\n",
       "    <tr>\n",
       "      <th>RandomForestRegressor</th>\n",
       "      <td>14.636072</td>\n",
       "      <td>0.058345</td>\n",
       "    </tr>\n",
       "    <tr>\n",
       "      <th>RandomForestRegressor2</th>\n",
       "      <td>14.462728</td>\n",
       "      <td>0.080518</td>\n",
       "    </tr>\n",
       "    <tr>\n",
       "      <th>RidgeRegression</th>\n",
       "      <td>15.083134</td>\n",
       "      <td>-0.000059</td>\n",
       "    </tr>\n",
       "    <tr>\n",
       "      <th>SVM</th>\n",
       "      <td>15.083134</td>\n",
       "      <td>0.026819</td>\n",
       "    </tr>\n",
       "    <tr>\n",
       "      <th>GradientBoostRFR</th>\n",
       "      <td>14.462728</td>\n",
       "      <td>0.033524</td>\n",
       "    </tr>\n",
       "  </tbody>\n",
       "</table>\n",
       "</div>"
      ],
      "text/plain": [
       "                             RMSE       Rsq\n",
       "DecisionTreeRegressor   15.499501 -0.013831\n",
       "RandomForestRegressor   14.636072  0.058345\n",
       "RandomForestRegressor2  14.462728  0.080518\n",
       "RidgeRegression         15.083134 -0.000059\n",
       "SVM                     15.083134  0.026819\n",
       "GradientBoostRFR        14.462728  0.033524"
      ]
     },
     "execution_count": 204,
     "metadata": {},
     "output_type": "execute_result"
    }
   ],
   "source": [
    "model_scores"
   ]
  },
  {
   "cell_type": "code",
   "execution_count": 205,
   "id": "70c8ad8e",
   "metadata": {},
   "outputs": [
    {
     "data": {
      "text/plain": [
       "Text(0, 0.5, 'RMSE')"
      ]
     },
     "execution_count": 205,
     "metadata": {},
     "output_type": "execute_result"
    },
    {
     "data": {
      "image/png": "[encoded data removed]",
      "text/plain": [
       "<Figure size 640x480 with 1 Axes>"
      ]
     },
     "metadata": {},
     "output_type": "display_data"
    }
   ],
   "source": [
    "import matplotlib.pyplot as plt\n",
    "\n",
    "x=model_scores.index\n",
    "y=model_scores['RMSE']\n",
    "\n",
    "plt.bar(x,y)\n",
    "plt.xticks(rotation = 90)\n",
    "plt.ylabel(\"RMSE\")"
   ]
  },
  {
   "cell_type": "code",
   "execution_count": 206,
   "id": "9dcd5008",
   "metadata": {},
   "outputs": [
    {
     "data": {
      "text/plain": [
       "Text(0, 0.5, 'Rsq')"
      ]
     },
     "execution_count": 206,
     "metadata": {},
     "output_type": "execute_result"
    },
    {
     "data": {
      "image/png": "[encoded data removed]",
      "text/plain": [
       "<Figure size 640x480 with 1 Axes>"
      ]
     },
     "metadata": {},
     "output_type": "display_data"
    }
   ],
   "source": [
    "x=model_scores.index\n",
    "y=model_scores['Rsq']\n",
    "\n",
    "plt.bar(x,y)\n",
    "plt.xticks(rotation = 90)\n",
    "plt.ylabel(\"Rsq\")"
   ]
  },
  {
   "cell_type": "code",
   "execution_count": null,
   "id": "4fef26c4",
   "metadata": {},
   "outputs": [],
   "source": []
  }
 ],
 "metadata": {
  "kernelspec": {
   "display_name": "Python 3 (ipykernel)",
   "language": "python",
   "name": "python3"
  },
  "language_info": {
   "codemirror_mode": {
    "name": "ipython",
    "version": 3
   },
   "file_extension": ".py",
   "mimetype": "text/x-python",
   "name": "python",
   "nbconvert_exporter": "python",
   "pygments_lexer": "ipython3",
   "version": "3.9.7"
  }
 },
 "nbformat": 4,
 "nbformat_minor": 5
}
